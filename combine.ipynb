{
 "cells": [
  {
   "cell_type": "code",
   "execution_count": 4,
   "id": "dc7f413c",
   "metadata": {},
   "outputs": [
    {
     "name": "stdout",
     "output_type": "stream",
     "text": [
      "{\n",
      "    \"question\": [\n",
      "        \"is security or guarantor required for motor loan\",\n",
      "        \"need for collateral when applying for a motor loan\",\n",
      "        \"whether a guarantor is needed for motorbike loan\",\n",
      "        \"motor loan conditions regarding collateral or guarantor\"\n",
      "    ]\n",
      "}\n"
     ]
    }
   ],
   "source": [
    "import json\n",
    "\n",
    "# Just paste your input text block here (as copied from Word or any plain text)\n",
    "input_text = \"\"\"\n",
    "is security or guarantor required for motor loan\n",
    "need for collateral when applying for a motor loan\n",
    "whether a guarantor is needed for motorbike loan\n",
    "motor loan conditions regarding collateral or guarantor\n",
    "\n",
    "\n",
    "\"\"\"\n",
    "\n",
    "# plit by line, strip extra whitespace, and remove blanks\n",
    "questions = [line.strip() for line in input_text.strip().splitlines() if line.strip()]\n",
    "\n",
    "# Wrap in the desired JSON structure\n",
    "data = {\n",
    "    \"question\": questions\n",
    "}\n",
    "\n",
    "# Output the JSON\n",
    "json_output = json.dumps(data, indent=4, ensure_ascii=False)\n",
    "print(json_output)\n"
   ]
  },
  {
   "cell_type": "code",
   "execution_count": null,
   "id": "cd024b45",
   "metadata": {},
   "outputs": [],
   "source": []
  }
 ],
 "metadata": {
  "kernelspec": {
   "display_name": "base",
   "language": "python",
   "name": "python3"
  },
  "language_info": {
   "codemirror_mode": {
    "name": "ipython",
    "version": 3
   },
   "file_extension": ".py",
   "mimetype": "text/x-python",
   "name": "python",
   "nbconvert_exporter": "python",
   "pygments_lexer": "ipython3",
   "version": "3.12.2"
  }
 },
 "nbformat": 4,
 "nbformat_minor": 5
}
