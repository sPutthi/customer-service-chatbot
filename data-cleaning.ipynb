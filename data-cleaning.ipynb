{
 "cells": [
  {
   "cell_type": "code",
   "execution_count": 1,
   "id": "2c4b1fa5",
   "metadata": {},
   "outputs": [],
   "source": [
    "import pandas as pd\n",
    "import numpy as np"
   ]
  },
  {
   "cell_type": "code",
   "execution_count": 2,
   "id": "abe4e591",
   "metadata": {},
   "outputs": [
    {
     "data": {
      "text/html": [
       "<div>\n",
       "<style scoped>\n",
       "    .dataframe tbody tr th:only-of-type {\n",
       "        vertical-align: middle;\n",
       "    }\n",
       "\n",
       "    .dataframe tbody tr th {\n",
       "        vertical-align: top;\n",
       "    }\n",
       "\n",
       "    .dataframe thead th {\n",
       "        text-align: right;\n",
       "    }\n",
       "</style>\n",
       "<table border=\"1\" class=\"dataframe\">\n",
       "  <thead>\n",
       "    <tr style=\"text-align: right;\">\n",
       "      <th></th>\n",
       "      <th>intent</th>\n",
       "      <th>question</th>\n",
       "    </tr>\n",
       "  </thead>\n",
       "  <tbody>\n",
       "    <tr>\n",
       "      <th>0</th>\n",
       "      <td>Digitall-Installment-Loan</td>\n",
       "      <td>What is digital installment in Wing Bank</td>\n",
       "    </tr>\n",
       "    <tr>\n",
       "      <th>1</th>\n",
       "      <td>Digitall-Installment-Loan</td>\n",
       "      <td>What are feature of Wing Bank’s Digital Instal...</td>\n",
       "    </tr>\n",
       "    <tr>\n",
       "      <th>2</th>\n",
       "      <td>Digitall-Installment-Loan</td>\n",
       "      <td>What are the fee charges associated with Wing ...</td>\n",
       "    </tr>\n",
       "    <tr>\n",
       "      <th>3</th>\n",
       "      <td>Digitall-Installment-Loan</td>\n",
       "      <td>How can I check my digital installment eligibi...</td>\n",
       "    </tr>\n",
       "    <tr>\n",
       "      <th>4</th>\n",
       "      <td>Digitall-Installment-Loan</td>\n",
       "      <td>What is the minimum purchase amount to use dig...</td>\n",
       "    </tr>\n",
       "  </tbody>\n",
       "</table>\n",
       "</div>"
      ],
      "text/plain": [
       "                      intent  \\\n",
       "0  Digitall-Installment-Loan   \n",
       "1  Digitall-Installment-Loan   \n",
       "2  Digitall-Installment-Loan   \n",
       "3  Digitall-Installment-Loan   \n",
       "4  Digitall-Installment-Loan   \n",
       "\n",
       "                                            question  \n",
       "0           What is digital installment in Wing Bank  \n",
       "1  What are feature of Wing Bank’s Digital Instal...  \n",
       "2  What are the fee charges associated with Wing ...  \n",
       "3  How can I check my digital installment eligibi...  \n",
       "4  What is the minimum purchase amount to use dig...  "
      ]
     },
     "execution_count": 2,
     "metadata": {},
     "output_type": "execute_result"
    }
   ],
   "source": [
    "df = pd.read_excel('intent-question.xlsx')\n",
    "df.head()"
   ]
  },
  {
   "cell_type": "code",
   "execution_count": 3,
   "id": "ce6bba44",
   "metadata": {},
   "outputs": [
    {
     "data": {
      "text/html": [
       "<div>\n",
       "<style scoped>\n",
       "    .dataframe tbody tr th:only-of-type {\n",
       "        vertical-align: middle;\n",
       "    }\n",
       "\n",
       "    .dataframe tbody tr th {\n",
       "        vertical-align: top;\n",
       "    }\n",
       "\n",
       "    .dataframe thead th {\n",
       "        text-align: right;\n",
       "    }\n",
       "</style>\n",
       "<table border=\"1\" class=\"dataframe\">\n",
       "  <thead>\n",
       "    <tr style=\"text-align: right;\">\n",
       "      <th></th>\n",
       "      <th>intent</th>\n",
       "      <th>question</th>\n",
       "    </tr>\n",
       "  </thead>\n",
       "  <tbody>\n",
       "    <tr>\n",
       "      <th>359</th>\n",
       "      <td>Mastercard-Gold-One-Card</td>\n",
       "      <td>How does the numberless design protect my Gold...</td>\n",
       "    </tr>\n",
       "    <tr>\n",
       "      <th>360</th>\n",
       "      <td>Mastercard-Gold-One-Card</td>\n",
       "      <td>Is the Gold One Card internationally accepted</td>\n",
       "    </tr>\n",
       "    <tr>\n",
       "      <th>361</th>\n",
       "      <td>Mastercard-Gold-One-Card</td>\n",
       "      <td>What makes the Gold One Card environmentally f...</td>\n",
       "    </tr>\n",
       "    <tr>\n",
       "      <th>362</th>\n",
       "      <td>Mastercard-Gold-One-Card</td>\n",
       "      <td>Can I get a supplementary Gold One Card for a ...</td>\n",
       "    </tr>\n",
       "    <tr>\n",
       "      <th>363</th>\n",
       "      <td>Mastercard-Gold-One-Card</td>\n",
       "      <td>What tools does the Wing Bank app offer for Go...</td>\n",
       "    </tr>\n",
       "  </tbody>\n",
       "</table>\n",
       "</div>"
      ],
      "text/plain": [
       "                       intent  \\\n",
       "359  Mastercard-Gold-One-Card   \n",
       "360  Mastercard-Gold-One-Card   \n",
       "361  Mastercard-Gold-One-Card   \n",
       "362  Mastercard-Gold-One-Card   \n",
       "363  Mastercard-Gold-One-Card   \n",
       "\n",
       "                                              question  \n",
       "359  How does the numberless design protect my Gold...  \n",
       "360      Is the Gold One Card internationally accepted  \n",
       "361  What makes the Gold One Card environmentally f...  \n",
       "362  Can I get a supplementary Gold One Card for a ...  \n",
       "363  What tools does the Wing Bank app offer for Go...  "
      ]
     },
     "execution_count": 3,
     "metadata": {},
     "output_type": "execute_result"
    }
   ],
   "source": [
    "df.tail()"
   ]
  },
  {
   "cell_type": "code",
   "execution_count": 4,
   "id": "2d5d42d2",
   "metadata": {},
   "outputs": [
    {
     "data": {
      "text/plain": [
       "Index(['intent', 'question'], dtype='object')"
      ]
     },
     "execution_count": 4,
     "metadata": {},
     "output_type": "execute_result"
    }
   ],
   "source": [
    "df.columns"
   ]
  },
  {
   "cell_type": "code",
   "execution_count": 5,
   "id": "52b10973",
   "metadata": {},
   "outputs": [
    {
     "data": {
      "text/plain": [
       "intent      object\n",
       "question    object\n",
       "dtype: object"
      ]
     },
     "execution_count": 5,
     "metadata": {},
     "output_type": "execute_result"
    }
   ],
   "source": [
    "df.dtypes"
   ]
  },
  {
   "cell_type": "code",
   "execution_count": 6,
   "id": "096fd07d",
   "metadata": {},
   "outputs": [
    {
     "data": {
      "text/plain": [
       "intent      0\n",
       "question    0\n",
       "dtype: int64"
      ]
     },
     "execution_count": 6,
     "metadata": {},
     "output_type": "execute_result"
    }
   ],
   "source": [
    "df.isna().sum()"
   ]
  },
  {
   "cell_type": "code",
   "execution_count": 7,
   "id": "8e5b8984",
   "metadata": {},
   "outputs": [
    {
     "name": "stdout",
     "output_type": "stream",
     "text": [
      "Index([], dtype='int64')\n"
     ]
    }
   ],
   "source": [
    "missing_indices = df[df['question'].isna()].index\n",
    "print(missing_indices)"
   ]
  },
  {
   "cell_type": "code",
   "execution_count": 8,
   "id": "5fc96014",
   "metadata": {},
   "outputs": [
    {
     "data": {
      "text/plain": [
       "intent                               Phone-Top-Up-Loan\n",
       "question    Is the Phone Top-Up Loan available anytime\n",
       "Name: 173, dtype: object"
      ]
     },
     "execution_count": 8,
     "metadata": {},
     "output_type": "execute_result"
    }
   ],
   "source": [
    "df.loc[78]\n",
    "df.loc[141] \n",
    "df.loc[162] \n",
    "df.loc[173] "
   ]
  },
  {
   "cell_type": "markdown",
   "id": "e58c6609",
   "metadata": {},
   "source": [
    "### Text Cleaning"
   ]
  },
  {
   "cell_type": "markdown",
   "id": "dcf2c589",
   "metadata": {},
   "source": [
    "- Lowecasing the data\n",
    "- Removing Puncuatations\n",
    "- Removing Numbers\n",
    "- Removing extra space\n",
    "- Replacing the repetitions of punctations\n",
    "- Removing Emojis\n",
    "- Removing emoticons\n",
    "- Removing Contractions"
   ]
  },
  {
   "cell_type": "code",
   "execution_count": 9,
   "id": "bfef5729",
   "metadata": {},
   "outputs": [],
   "source": [
    "import pandas as pd"
   ]
  },
  {
   "cell_type": "code",
   "execution_count": 10,
   "id": "c9319250",
   "metadata": {},
   "outputs": [],
   "source": [
    "# Convert to Lowercase\n",
    "df['question'] = df['question'].str.lower()"
   ]
  },
  {
   "cell_type": "code",
   "execution_count": 11,
   "id": "38ddea0d",
   "metadata": {},
   "outputs": [],
   "source": [
    "#Removing Puncuations from Question\n",
    "import string\n",
    "punc_remove = str.maketrans('', '', string.punctuation)\n",
    "df['question'] = df['question'].apply(lambda x: x.translate(punc_remove) if isinstance (x, str) else x)\n"
   ]
  },
  {
   "cell_type": "code",
   "execution_count": 12,
   "id": "77206a16",
   "metadata": {},
   "outputs": [],
   "source": [
    "#Remove Contraction from Question Columns\n",
    "import contractions\n",
    "df['question'] = df['question'].apply(lambda x: contractions.fix(x) if isinstance(x, str) else x)"
   ]
  },
  {
   "cell_type": "code",
   "execution_count": 13,
   "id": "300b4d02",
   "metadata": {},
   "outputs": [],
   "source": [
    "df.to_excel('intent-question-cleanned.xlsx', index=False)"
   ]
  },
  {
   "cell_type": "code",
   "execution_count": 14,
   "id": "dff6b534",
   "metadata": {},
   "outputs": [
    {
     "data": {
      "text/html": [
       "<div>\n",
       "<style scoped>\n",
       "    .dataframe tbody tr th:only-of-type {\n",
       "        vertical-align: middle;\n",
       "    }\n",
       "\n",
       "    .dataframe tbody tr th {\n",
       "        vertical-align: top;\n",
       "    }\n",
       "\n",
       "    .dataframe thead th {\n",
       "        text-align: right;\n",
       "    }\n",
       "</style>\n",
       "<table border=\"1\" class=\"dataframe\">\n",
       "  <thead>\n",
       "    <tr style=\"text-align: right;\">\n",
       "      <th></th>\n",
       "      <th>intent</th>\n",
       "      <th>question</th>\n",
       "    </tr>\n",
       "  </thead>\n",
       "  <tbody>\n",
       "    <tr>\n",
       "      <th>0</th>\n",
       "      <td>Digitall-Installment-Loan</td>\n",
       "      <td>what is digital installment in wing bank</td>\n",
       "    </tr>\n",
       "    <tr>\n",
       "      <th>1</th>\n",
       "      <td>Digitall-Installment-Loan</td>\n",
       "      <td>what are feature of wing bank’s digital instal...</td>\n",
       "    </tr>\n",
       "    <tr>\n",
       "      <th>2</th>\n",
       "      <td>Digitall-Installment-Loan</td>\n",
       "      <td>what are the fee charges associated with wing ...</td>\n",
       "    </tr>\n",
       "    <tr>\n",
       "      <th>3</th>\n",
       "      <td>Digitall-Installment-Loan</td>\n",
       "      <td>how can i check my digital installment eligibi...</td>\n",
       "    </tr>\n",
       "    <tr>\n",
       "      <th>4</th>\n",
       "      <td>Digitall-Installment-Loan</td>\n",
       "      <td>what is the minimum purchase amount to use dig...</td>\n",
       "    </tr>\n",
       "  </tbody>\n",
       "</table>\n",
       "</div>"
      ],
      "text/plain": [
       "                      intent  \\\n",
       "0  Digitall-Installment-Loan   \n",
       "1  Digitall-Installment-Loan   \n",
       "2  Digitall-Installment-Loan   \n",
       "3  Digitall-Installment-Loan   \n",
       "4  Digitall-Installment-Loan   \n",
       "\n",
       "                                            question  \n",
       "0           what is digital installment in wing bank  \n",
       "1  what are feature of wing bank’s digital instal...  \n",
       "2  what are the fee charges associated with wing ...  \n",
       "3  how can i check my digital installment eligibi...  \n",
       "4  what is the minimum purchase amount to use dig...  "
      ]
     },
     "execution_count": 14,
     "metadata": {},
     "output_type": "execute_result"
    }
   ],
   "source": [
    "df.head()"
   ]
  }
 ],
 "metadata": {
  "kernelspec": {
   "display_name": "base",
   "language": "python",
   "name": "python3"
  },
  "language_info": {
   "codemirror_mode": {
    "name": "ipython",
    "version": 3
   },
   "file_extension": ".py",
   "mimetype": "text/x-python",
   "name": "python",
   "nbconvert_exporter": "python",
   "pygments_lexer": "ipython3",
   "version": "3.12.2"
  }
 },
 "nbformat": 4,
 "nbformat_minor": 5
}
